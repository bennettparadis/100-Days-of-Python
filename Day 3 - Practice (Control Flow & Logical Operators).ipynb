{
 "cells": [
  {
   "cell_type": "code",
   "execution_count": 3,
   "id": "1f9fa9c6",
   "metadata": {},
   "outputs": [
    {
     "name": "stdout",
     "output_type": "stream",
     "text": [
      "Type in a year to determine if it's a leap year: 2024\n",
      "2024 is a leap year.\n"
     ]
    }
   ],
   "source": [
    "# Python program to check if year is a leap year or not\n",
    "\n",
    "year = int(input(\"Type in a year to determine if it's a leap year: \"))\n",
    "\n",
    "# To get year (integer input) from the user\n",
    "# year = int(input(\"Enter a year: \"))\n",
    "\n",
    "# divided by 100 means century year (ending with 00)\n",
    "# century year divided by 400 is leap year\n",
    "if (year % 400 == 0) and (year % 100 == 0):\n",
    "    print(f\"{year} is a leap year.\")\n",
    "\n",
    "# not divided by 100 means not a century year\n",
    "# year divided by 4 is a leap year\n",
    "elif (year % 4 ==0) and (year % 100 != 0):\n",
    "    print(f\"{year} is a leap year.\")\n",
    "\n",
    "# if not divided by both 400 (century year) and 4 (not century year)\n",
    "# year is not leap year\n",
    "else:\n",
    "    print(f\"{year} is not a leap year.\")"
   ]
  },
  {
   "cell_type": "markdown",
   "id": "4d9f9c1f",
   "metadata": {},
   "source": [
    "Congratulations, you've got a job at Python Pizza! Your first job is to build an automatic pizza order program.\n",
    "\n",
    "Based on a user's order, work out their final bill.\n",
    "\n",
    "Small pizza (S): $15\n",
    "\n",
    "Medium pizza (M): $20\n",
    "\n",
    "Large pizza (L): $25\n",
    "\n",
    "Add pepperoni for small pizza (Y or N): +$2\n",
    "\n",
    "Add pepperoni for medium or large pizza (Y or N): +$3\n",
    "\n",
    "Add extra cheese for any size pizza (Y or N): +$1"
   ]
  },
  {
   "cell_type": "code",
   "execution_count": null,
   "id": "5b467076",
   "metadata": {},
   "outputs": [],
   "source": [
    "print(\"Thank you for choosing Python Pizza Deliveries!\")\n",
    "size = input() # What size pizza do you want? S, M, or L\n",
    "add_pepperoni = input() # Do you want pepperoni? Y or N\n",
    "extra_cheese = input() # Do you want extra cheese? Y or N\n",
    "\n",
    "bill = 0\n",
    "\n",
    "if size == 'S':\n",
    "  bill = 15\n",
    "elif size == 'M':\n",
    "  bill = 20\n",
    "else:\n",
    "  bill = 25\n",
    "\n",
    "if add_pepperoni == 'Y':\n",
    "    if size == 'S':\n",
    "        bill += 2\n",
    "    else:\n",
    "        bill +=3\n",
    "\n",
    "if extra_cheese == 'Y':\n",
    "  bill += 1\n",
    "\n",
    "print(f\"Your final bill is: ${bill}.\")"
   ]
  }
 ],
 "metadata": {
  "kernelspec": {
   "display_name": "Python 3 (ipykernel)",
   "language": "python",
   "name": "python3"
  },
  "language_info": {
   "codemirror_mode": {
    "name": "ipython",
    "version": 3
   },
   "file_extension": ".py",
   "mimetype": "text/x-python",
   "name": "python",
   "nbconvert_exporter": "python",
   "pygments_lexer": "ipython3",
   "version": "3.10.9"
  }
 },
 "nbformat": 4,
 "nbformat_minor": 5
}
