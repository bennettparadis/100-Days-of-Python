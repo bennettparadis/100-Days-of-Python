{
 "cells": [
  {
   "cell_type": "code",
   "execution_count": 2,
   "id": "8457b4ed",
   "metadata": {},
   "outputs": [
    {
     "name": "stdout",
     "output_type": "stream",
     "text": [
      "Welcome to the PyPassword Generator!\n",
      "Your password is: z)6z%k*(04$9!25$C*$8A4\n"
     ]
    }
   ],
   "source": [
    "#Password Generator Project\n",
    "import random\n",
    "letters = ['a', 'b', 'c', 'd', 'e', 'f', 'g', 'h', 'i', 'j', 'k', 'l', 'm', 'n', 'o', 'p', 'q', 'r', 's', 't', 'u', 'v', 'w', 'x', 'y', 'z', 'A', 'B', 'C', 'D', 'E', 'F', 'G', 'H', 'I', 'J', 'K', 'L', 'M', 'N', 'O', 'P', 'Q', 'R', 'S', 'T', 'U', 'V', 'W', 'X', 'Y', 'Z']\n",
    "numbers = ['0', '1', '2', '3', '4', '5', '6', '7', '8', '9']\n",
    "symbols = ['!', '#', '$', '%', '&', '(', ')', '*', '+']\n",
    "\n",
    "print(\"Welcome to the PyPassword Generator!\")\n",
    "#nr_letters= int(input(\"How many letters would you like in your password?\\n\")) \n",
    "#nr_symbols = int(input(f\"How many symbols would you like?\\n\"))\n",
    "#nr_numbers = int(input(f\"How many numbers would you like?\\n\"))\n",
    "\n",
    "nr_letters= random.randint(0,11)\n",
    "nr_symbols = random.randint(0,11)\n",
    "nr_numbers = random.randint(0,11)\n",
    "\n",
    "pw = []\n",
    "\n",
    "for char in range(nr_letters):\n",
    "  pw.append(random.choice(letters))\n",
    "\n",
    "for char in range(nr_symbols):\n",
    "  pw.append(random.choice(symbols))\n",
    "\n",
    "for char in range(nr_numbers):\n",
    "  pw.append(random.choice(numbers))\n",
    "\n",
    "random.shuffle(pw)\n",
    "password = ''.join([str(item) for item in pw])\n",
    "\n",
    "print(f\"Your password is: {password}\")"
   ]
  },
  {
   "cell_type": "code",
   "execution_count": null,
   "id": "ae224247",
   "metadata": {},
   "outputs": [],
   "source": []
  }
 ],
 "metadata": {
  "kernelspec": {
   "display_name": "Python 3 (ipykernel)",
   "language": "python",
   "name": "python3"
  },
  "language_info": {
   "codemirror_mode": {
    "name": "ipython",
    "version": 3
   },
   "file_extension": ".py",
   "mimetype": "text/x-python",
   "name": "python",
   "nbconvert_exporter": "python",
   "pygments_lexer": "ipython3",
   "version": "3.10.9"
  }
 },
 "nbformat": 4,
 "nbformat_minor": 5
}
