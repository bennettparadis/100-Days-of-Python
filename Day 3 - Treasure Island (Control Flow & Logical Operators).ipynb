{
 "cells": [
  {
   "cell_type": "code",
   "execution_count": null,
   "id": "b7ed80d0",
   "metadata": {},
   "outputs": [],
   "source": [
    "print('''\n",
    "\n",
    "                                    ,.ood888888888888boo.,\n",
    "                               .od888P^\"\"            \"\"^Y888bo.\n",
    "                           .od8P''   ..oood88888888booo.    ``Y8bo.\n",
    "                        .odP'\"  .ood8888888888888888888888boo.  \"`Ybo.\n",
    "                      .d8'   od8'd888888888f`8888't888888888b`8bo   `Yb.\n",
    "                     d8'  od8^   8888888888[  `'  ]8888888888   ^8bo  `8b\n",
    "                   .8P  d88'     8888888888P      Y8888888888     `88b  Y8.\n",
    "                  d8' .d8'       `Y88888888'      `88888888P'       `8b. `8b\n",
    "                 .8P .88P            \"\"\"\"            \"\"\"\"            Y88. Y8.\n",
    "                 88  888                                              888  88\n",
    "                 88  888                                              888  88\n",
    "                 88  888.        ..                        ..        .888  88\n",
    "                 `8b `88b,     d8888b.od8bo.      .od8bo.d8888b     ,d88' d8'\n",
    "                  Y8. `Y88.    8888888888888b    d8888888888888    .88P' .8P\n",
    "                   `8b  Y88b.  `88888888888888  88888888888888'  .d88P  d8'\n",
    "                     Y8.  ^Y88bod8888888888888..8888888888888bod88P^  .8P\n",
    "                      `Y8.   ^Y888888888888888LS888888888888888P^   .8P'\n",
    "                        `^Yb.,  `^^Y8888888888888888888888P^^'  ,.dP^'\n",
    "                           `^Y8b..   ``^^^Y88888888P^^^'    ..d8P^'\n",
    "                               `^Y888bo.,            ,.od888P^'\n",
    "                                    \"`^^Y888888888888P^^'\"         LS\n",
    "                                                                      \n",
    "                                                                       \n",
    "                             _           _  \n",
    "                            | |         | |                        \n",
    "                            | |__   __ _| |_ _ __ ___   __ _ _ __  \n",
    "                            | '_ \\ / _` | __| '_ ` _ \\ / _` | '_ \\ \n",
    "                            | |_) | (_| | |_| | | | | | (_| | | | |\n",
    "                            |_.__/ \\__,_|\\__|_| |_| |_|\\__,_|_| |_|                                    \n",
    "''')\n",
    "\n",
    "print(\"Welcome to Batman Origins.\")\n",
    "print(\"Your mission is to find your arch nemesis, the Joker, and bring him to justice.\")\n",
    "choice1 = input('You\\'re in the middle of Gotham City at night, and you over hear a high pitched scream for help. Do you investigate or go back home to the Batcave? Type \"investigate\" or \"home\".').lower()\n",
    "\n",
    "if choice1 == 'investigate':\n",
    "    choice2 = input('The scream brings you to a dark alleyway. A flickering light briefly reveals a silhouette at the end. The woman? She is curled up. How do you approach the scene--quickly or scan the alley with your nightvision ? Type \"run\" or \"nightvision\".').lower()\n",
    "    if choice2 == 'nightvision':\n",
    "        choice3 = input('The scan reveals nobody else is nearby. But as you approach the person, your tech picks up signs of a mysterious gas. What do you do? Type \"hold breath\" or \"\"').lower()\n",
    "        if choice3 == :\n",
    "            print()\n",
    "        elif choice3 == :\n",
    "            print()\n",
    "        elif choice3 == :\n",
    "            print()\n",
    "        else: \n",
    "            print(\"You picked something that wasn't an option. Batman doesn't lose focus like that. Game Over.\")\n",
    "    else:\n",
    "        print(\"It was a trap! Batman always checks the scene for hazards rather than recklessly running into danger. Game Over.\")\n",
    "else:\n",
    "    print(\"The night is still young, Batman sleeps during the day! Stay vigilant next time. Game Over.\")"
   ]
  }
 ],
 "metadata": {
  "kernelspec": {
   "display_name": "Python 3 (ipykernel)",
   "language": "python",
   "name": "python3"
  },
  "language_info": {
   "codemirror_mode": {
    "name": "ipython",
    "version": 3
   },
   "file_extension": ".py",
   "mimetype": "text/x-python",
   "name": "python",
   "nbconvert_exporter": "python",
   "pygments_lexer": "ipython3",
   "version": "3.10.9"
  }
 },
 "nbformat": 4,
 "nbformat_minor": 5
}
