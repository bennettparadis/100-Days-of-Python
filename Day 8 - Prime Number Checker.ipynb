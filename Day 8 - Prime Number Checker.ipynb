{
 "cells": [
  {
   "cell_type": "code",
   "execution_count": null,
   "id": "6cef1581",
   "metadata": {},
   "outputs": [],
   "source": [
    "#Prime number checker\n",
    "\n",
    "def prime_checker(number):\n",
    "  is_prime = True\n",
    "  \n",
    "  for i in range(2, number):\n",
    "    if number % i == 0:\n",
    "      is_prime = False\n",
    "    \n",
    "  if is_prime:\n",
    "     print(\"It's a prime number.\")\n",
    "  else:\n",
    "    print(\"It's not a prime number.\")\n",
    "\n",
    "n = int(input()) # Check this number\n",
    "prime_checker(number=n)"
   ]
  }
 ],
 "metadata": {
  "kernelspec": {
   "display_name": "Python 3 (ipykernel)",
   "language": "python",
   "name": "python3"
  },
  "language_info": {
   "codemirror_mode": {
    "name": "ipython",
    "version": 3
   },
   "file_extension": ".py",
   "mimetype": "text/x-python",
   "name": "python",
   "nbconvert_exporter": "python",
   "pygments_lexer": "ipython3",
   "version": "3.10.9"
  }
 },
 "nbformat": 4,
 "nbformat_minor": 5
}
