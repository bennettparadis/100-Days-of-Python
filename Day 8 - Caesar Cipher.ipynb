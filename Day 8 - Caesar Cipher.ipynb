{
 "cells": [
  {
   "cell_type": "code",
   "execution_count": null,
   "id": "a70f450e",
   "metadata": {},
   "outputs": [],
   "source": [
    "alphabet = ['a', 'b', 'c', 'd', 'e', 'f', 'g', 'h', 'i', 'j', 'k', 'l', 'm', 'n', 'o', 'p', 'q', 'r', 's', 't', 'u', 'v', 'w', 'x', 'y', 'z', 'a', 'b', 'c', 'd', 'e', 'f', 'g', 'h', 'i', 'j', 'k', 'l', 'm', 'n', 'o', 'p', 'q', 'r', 's', 't', 'u', 'v', 'w', 'x', 'y', 'z']\n",
    "\n",
    "\n",
    "def caesar(direction_path, start_text, shift_amount):\n",
    "  end_text = ''\n",
    "\n",
    "  if direction_path == \"decode\":\n",
    "    shift_amount *= -1\n",
    "  \n",
    "  for char in start_text:\n",
    "    if char in alphabet:\n",
    "      position = alphabet.index(char)\n",
    "      new_position = position + shift_amount\n",
    "      end_text += alphabet[new_position]\n",
    "    else:\n",
    "      end_text += char\n",
    "    \n",
    "  print(f\"The {direction_path}d text is {end_text}\")\n",
    "\n",
    "continue_cipher = True\n",
    "\n",
    "while continue_cipher:\n",
    "  print(\"Welcome to the Caesar Cipher! \\nInspired by Caesar's encryption method, this program will encode or decode a message.\")\n",
    "  direction = input(\"Type 'encode' to encrypt, type 'decode' to decrypt:\\n\")\n",
    "  text = input(\"Type your message:\\n\").lower()\n",
    "  shift = int(input(\"Type the shift number:\\n\"))\n",
    "  \n",
    "  shift = shift % 26\n",
    "  \n",
    "  caesar(direction_path = direction, start_text = text, shift_amount = shift)\n",
    "  \n",
    "  answer = input(\"Do you want to use the cipher again? Type Y/N. \\n\").lower()\n",
    "  if answer == \"n\":\n",
    "    continue_cipher = False\n",
    "    print(\"Goodbye\")  "
   ]
  },
  {
   "cell_type": "code",
   "execution_count": null,
   "id": "c5e28250",
   "metadata": {},
   "outputs": [],
   "source": []
  }
 ],
 "metadata": {
  "kernelspec": {
   "display_name": "Python 3 (ipykernel)",
   "language": "python",
   "name": "python3"
  },
  "language_info": {
   "codemirror_mode": {
    "name": "ipython",
    "version": 3
   },
   "file_extension": ".py",
   "mimetype": "text/x-python",
   "name": "python",
   "nbconvert_exporter": "python",
   "pygments_lexer": "ipython3",
   "version": "3.10.9"
  }
 },
 "nbformat": 4,
 "nbformat_minor": 5
}
