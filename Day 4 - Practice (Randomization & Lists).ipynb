{
 "cells": [
  {
   "cell_type": "markdown",
   "id": "fe03375c",
   "metadata": {},
   "source": [
    "Random module -- import this\n",
    "\n",
    "Can create own module, as it is a standalone script that can be used to interact with a main script. Often it is useful to break a project up into modules, and then call each one in the main script.\n",
    "\n",
    "For example -- you create two scripts (main and my_module). In main, to call an object/function/method/etc from my_module, you'll import and use the following syntax:\n",
    "\n",
    "> import my_module\n",
    "\n",
    "> print(my_module.pi)"
   ]
  },
  {
   "cell_type": "markdown",
   "id": "e6a688bd",
   "metadata": {},
   "source": [
    "You are going to write a program that will select a random name from a list of names. The person selected will have to pay for everybody's food bill."
   ]
  },
  {
   "cell_type": "code",
   "execution_count": 4,
   "id": "427ed5ff",
   "metadata": {},
   "outputs": [
    {
     "name": "stdout",
     "output_type": "stream",
     "text": [
      "George is going to buy the meal today!\n"
     ]
    }
   ],
   "source": [
    "import random\n",
    "names_string = \"Bennett, Nick, Sam, Doug, Trent, George, Angelica, Mason\"\n",
    "\n",
    "names = names_string.split(\", \")\n",
    "\n",
    "num_ppl = len(names)\n",
    "rand_index = random.randint(0,(num_ppl-1))\n",
    "rand_name= names[rand_index]\n",
    "\n",
    "print(f\"{rand_name} is going to buy the meal today!\")"
   ]
  },
  {
   "cell_type": "code",
   "execution_count": 11,
   "id": "68203f34",
   "metadata": {},
   "outputs": [
    {
     "name": "stdout",
     "output_type": "stream",
     "text": [
      "[['Strawberries', 'Apples', 'Grapes', 'Cherries', 'Peaches', 'Pears'], ['Spinach', 'Kale', 'Tomatoes', 'Celery', 'Potatoes']]\n"
     ]
    },
    {
     "data": {
      "text/plain": [
       "'Apples'"
      ]
     },
     "execution_count": 11,
     "metadata": {},
     "output_type": "execute_result"
    }
   ],
   "source": [
    "# Nested Lists\n",
    "\n",
    "dirty_dozen1 = [\"Strawberries\" , \"Spinach\", \"Kale\", \"Tomatoes\", \"Apples\" , \"Grapes\", \"Celery\" , \"Cherries\", \"Potatoes\", \"Peaches\" , \"Pears\"]\n",
    "\n",
    "fruits = [\"Strawberries\" , \"Apples\" , \"Grapes\", \"Cherries\", \"Peaches\" , \"Pears\"]\n",
    "vegetables = [\"Spinach\", \"Kale\", \"Tomatoes\", \"Celery\" , \"Potatoes\"]\n",
    "\n",
    "dirty_dozen2 = [fruits, vegetables]\n",
    "print(dirty_dozen2)\n",
    "\n",
    "dirty_dozen2[0][1] #call object within a nested list with two indexes"
   ]
  },
  {
   "cell_type": "markdown",
   "id": "3ead6c95",
   "metadata": {},
   "source": [
    "You are going to write a program that will mark a spot on a map with an X.\n",
    "\n",
    "In the starting code, you will find a variable called map.\n",
    "\n",
    "This map contains a nested list. When map is printed this is what it looks like (notice the nesting)\n",
    "\n",
    "The user will input a coordinate in the form of A1, B3, C2, etc"
   ]
  },
  {
   "cell_type": "code",
   "execution_count": 12,
   "id": "406ecc67",
   "metadata": {},
   "outputs": [
    {
     "name": "stdout",
     "output_type": "stream",
     "text": [
      "Hiding your treasure! X marks the spot.\n",
      "a2\n",
      "['⬜️', '️⬜️', '️⬜️']\n",
      "['X', '⬜️', '️⬜️']\n",
      "['⬜️️', '⬜️️', '⬜️️']\n"
     ]
    }
   ],
   "source": [
    "line1 = [\"⬜️\",\"️⬜️\",\"️⬜️\"]\n",
    "line2 = [\"⬜️\",\"⬜️\",\"️⬜️\"]\n",
    "line3 = [\"⬜️️\",\"⬜️️\",\"⬜️️\"]\n",
    "map = [line1, line2, line3]\n",
    "print(\"Hiding your treasure! X marks the spot.\")\n",
    "position = input() # Where do you want to put the treasure?\n",
    "# 🚨 Don't change the code above 👆\n",
    "# Write your code below this row 👇\n",
    "letter = position[0].lower()\n",
    "abc = [\"a\",\"b\",\"c\"]\n",
    "letter_index = abc.index(letter)\n",
    "\n",
    "num_index = int(position[1]) - 1\n",
    "map[num_index][letter_index] = \"X\"\n",
    "\n",
    "# Write your code above this row 👆\n",
    "# 🚨 Don't change the code below 👇\n",
    "print(f\"{line1}\\n{line2}\\n{line3}\")"
   ]
  }
 ],
 "metadata": {
  "kernelspec": {
   "display_name": "Python 3 (ipykernel)",
   "language": "python",
   "name": "python3"
  },
  "language_info": {
   "codemirror_mode": {
    "name": "ipython",
    "version": 3
   },
   "file_extension": ".py",
   "mimetype": "text/x-python",
   "name": "python",
   "nbconvert_exporter": "python",
   "pygments_lexer": "ipython3",
   "version": "3.10.9"
  }
 },
 "nbformat": 4,
 "nbformat_minor": 5
}
