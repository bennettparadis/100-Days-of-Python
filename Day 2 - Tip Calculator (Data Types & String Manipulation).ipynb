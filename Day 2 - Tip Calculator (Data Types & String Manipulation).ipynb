{
 "cells": [
  {
   "cell_type": "code",
   "execution_count": 10,
   "id": "19c18a20",
   "metadata": {},
   "outputs": [
    {
     "name": "stdout",
     "output_type": "stream",
     "text": [
      "Welcome to the tip calculator.\n",
      "What was the total bill? $300\n",
      "What percentage tip would you like to give? 10, 12 or 15%? 8\n",
      "How many people to split the bill? 15\n"
     ]
    }
   ],
   "source": [
    "print(\"Welcome to the tip calculator.\")\n",
    "bill = float(input(\"What was the total bill? $\"))\n",
    "tip_percent = int(input(\"What percentage tip would you like to give? 10, 12 or 15%? \"))\n",
    "split_factor = int(input(\"How many people to split the bill? \"))"
   ]
  },
  {
   "cell_type": "code",
   "execution_count": 17,
   "id": "7d5fda58",
   "metadata": {},
   "outputs": [
    {
     "name": "stdout",
     "output_type": "stream",
     "text": [
      "Each person should pay: $21.60\n"
     ]
    }
   ],
   "source": [
    "after_tip = bill*(1+tip_percent/100)\n",
    "split_bill = after_tip/float(split_factor)\n",
    "result = \"{:.2f}\".format(split_bill) #need to include this extra formatting step to include calculations ending in zero, otherwise it may print out $26.8\n",
    "\n",
    "print(f\"Each person should pay: ${result}\")"
   ]
  },
  {
   "cell_type": "code",
   "execution_count": null,
   "id": "b5bab882",
   "metadata": {},
   "outputs": [],
   "source": []
  }
 ],
 "metadata": {
  "kernelspec": {
   "display_name": "Python 3 (ipykernel)",
   "language": "python",
   "name": "python3"
  },
  "language_info": {
   "codemirror_mode": {
    "name": "ipython",
    "version": 3
   },
   "file_extension": ".py",
   "mimetype": "text/x-python",
   "name": "python",
   "nbconvert_exporter": "python",
   "pygments_lexer": "ipython3",
   "version": "3.10.9"
  }
 },
 "nbformat": 4,
 "nbformat_minor": 5
}
