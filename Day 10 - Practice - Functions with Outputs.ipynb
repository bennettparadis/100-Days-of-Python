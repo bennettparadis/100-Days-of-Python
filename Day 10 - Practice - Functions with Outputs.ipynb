{
 "cells": [
  {
   "cell_type": "code",
   "execution_count": 3,
   "id": "43108a51",
   "metadata": {},
   "outputs": [
    {
     "name": "stdout",
     "output_type": "stream",
     "text": [
      "Bennett Paradis\n",
      "What is your first name? bennett\n",
      "What is your last name? PARADIS\n",
      "Bennett Paradis\n"
     ]
    }
   ],
   "source": [
    "#practice\n",
    "\n",
    "def format_name(f_name, l_name):\n",
    "    first_formated = f_name.title()\n",
    "    last_formated = l_name.title()\n",
    "    return f\"{first_formated} {last_formated}\"\n",
    "\n",
    "#instead of printing, can use return to save the output in a variable\n",
    "#then you can call the function with arguments by saving it to a variable \n",
    "test = format_name(\"BENNett\", \"PaRaDiS\")\n",
    "print(test)\n",
    "\n",
    "#Can combine functions together with this \n",
    "test2 = format_name(input(\"What is your first name? \"), input(\"What is your last name? \"))\n",
    "print(test2)"
   ]
  },
  {
   "cell_type": "code",
   "execution_count": null,
   "id": "a00ad98b",
   "metadata": {},
   "outputs": [],
   "source": [
    "#multiple return values\n",
    "\n",
    "def format_name2(f_name, l_name):\n",
    "    if f_name == \"\" or l_name == \"\":\n",
    "        return \"You didn't provide valid inputs.\" #early return allows us to escape the function; ends the function early\n",
    "    first_formated = f_name.title()\n",
    "    last_formated = l_name.title()\n",
    "    return f\"{first_formated} {last_formated}\""
   ]
  },
  {
   "cell_type": "code",
   "execution_count": null,
   "id": "664e7a01",
   "metadata": {},
   "outputs": [],
   "source": [
    "#Days within a month accounting for leap years\n",
    "\n",
    "#Assign a Boolean with the result of is_leap(). That function will then be called within another function defined below\n",
    "def is_leap(year):\n",
    "    if year % 4 == 0:\n",
    "        if year % 100 == 0:\n",
    "            if year % 400 == 0:\n",
    "                return True\n",
    "            else:\n",
    "                return False\n",
    "        else:\n",
    "            return True\n",
    "    else:\n",
    "        return False\n",
    "\n",
    "#Create function to determine days in a month\n",
    "def days_in_month(year, month):\n",
    "    #list of months with number of days \n",
    "    month_days = [31, 28, 31, 30, 31, 30, 31, 31, 30, 31, 30, 31] \n",
    "  \n",
    "    #call is_leap function by passing the year input, if it returns true AND the user asks for the 2nd month...\n",
    "    if is_leap(year) == True and month == 2:\n",
    "        return 29   \n",
    "    else:\n",
    "        #subtract one from month because of list indexing\n",
    "        return month_days[month-1]\n",
    "            \n",
    "\n",
    "year = int(input()) # Enter a year\n",
    "month = int(input()) # Enter a month\n",
    "days = days_in_month(year, month)\n",
    "print(days)\n"
   ]
  },
  {
   "cell_type": "code",
   "execution_count": null,
   "id": "f04d1669",
   "metadata": {},
   "outputs": [],
   "source": [
    "#Docstrings - good documentation for functions\n",
    "#typically the first line after the decleration; surrounded by 3 quotations\n",
    "\n",
    "def format_name(f_name, l_name):\n",
    "    \"\"\"Take a first and last name and format it to return the title case version of the name. \"\"\"\n",
    "\n",
    "#next time the function is called --> format_name() -->the blurb will appear, depending on the text editor, detailing the use of the function, or whatever you wrote in there\n"
   ]
  }
 ],
 "metadata": {
  "kernelspec": {
   "display_name": "Python 3 (ipykernel)",
   "language": "python",
   "name": "python3"
  },
  "language_info": {
   "codemirror_mode": {
    "name": "ipython",
    "version": 3
   },
   "file_extension": ".py",
   "mimetype": "text/x-python",
   "name": "python",
   "nbconvert_exporter": "python",
   "pygments_lexer": "ipython3",
   "version": "3.10.9"
  }
 },
 "nbformat": 4,
 "nbformat_minor": 5
}
