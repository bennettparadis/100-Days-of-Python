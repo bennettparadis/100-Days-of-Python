{
 "cells": [
  {
   "cell_type": "markdown",
   "id": "e24b02ea",
   "metadata": {},
   "source": [
    "You are going to write a program that automatically prints the solution to the FizzBuzz game. These are the rules of the FizzBuzz game:\n",
    "\n",
    "Your program should print each number from 1 to 100 in turn and include number 100.\n",
    "\n",
    "When the number is divisible by 3 then instead of printing the number it should print \"Fizz\".\n",
    "\n",
    "When the number is divisible by 5, then instead of printing the number it should print \"Buzz\".`\n",
    "\n",
    "And if the number is divisible by both 3 and 5 e.g. 15 then instead of the number it should print \"FizzBuzz\""
   ]
  },
  {
   "cell_type": "code",
   "execution_count": null,
   "id": "635665ed",
   "metadata": {},
   "outputs": [],
   "source": [
    "for x in range(1,101):\n",
    "  if x % 3 == 0 and x % 5 == 0:\n",
    "    print(\"FizzBuzz\")\n",
    "  elif x % 3 == 0:\n",
    "    print(\"Fizz\")\n",
    "  elif x % 5 == 0:\n",
    "    print(\"Buzz\")\n",
    "  else:\n",
    "    print(x)"
   ]
  }
 ],
 "metadata": {
  "kernelspec": {
   "display_name": "Python 3 (ipykernel)",
   "language": "python",
   "name": "python3"
  },
  "language_info": {
   "codemirror_mode": {
    "name": "ipython",
    "version": 3
   },
   "file_extension": ".py",
   "mimetype": "text/x-python",
   "name": "python",
   "nbconvert_exporter": "python",
   "pygments_lexer": "ipython3",
   "version": "3.10.9"
  }
 },
 "nbformat": 4,
 "nbformat_minor": 5
}
